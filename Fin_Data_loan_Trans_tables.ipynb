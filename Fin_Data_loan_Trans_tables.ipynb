{
 "cells": [
  {
   "cell_type": "code",
   "execution_count": null,
   "id": "301ab0ac",
   "metadata": {},
   "outputs": [],
   "source": []
  },
  {
   "cell_type": "code",
   "execution_count": null,
   "id": "088e647a",
   "metadata": {},
   "outputs": [],
   "source": [
    "loan_raw.head()"
   ]
  },
  {
   "cell_type": "code",
   "execution_count": null,
   "id": "cc3d758c",
   "metadata": {},
   "outputs": [],
   "source": [
    "loan_raw.isna().sum()"
   ]
  },
  {
   "cell_type": "code",
   "execution_count": null,
   "id": "e1132be5",
   "metadata": {},
   "outputs": [],
   "source": [
    "#Filter dependent variable loan data i.e loan data for year 1997\n",
    "loan_raw = loan_raw[loan_raw['date'].astype(str).str[:2].isin(['97'])]\n",
    "loan_raw"
   ]
  },
  {
   "cell_type": "code",
   "execution_count": null,
   "id": "d33a104b",
   "metadata": {},
   "outputs": [],
   "source": [
    "loan_raw['granted'] = '1'"
   ]
  },
  {
   "cell_type": "code",
   "execution_count": null,
   "id": "5bded5e6",
   "metadata": {},
   "outputs": [],
   "source": [
    "df= pd.merge(df,loan_raw, how='left', on='account_id')"
   ]
  },
  {
   "cell_type": "code",
   "execution_count": null,
   "id": "8d26e4da",
   "metadata": {},
   "outputs": [],
   "source": [
    "def aggregate(transaction):\n",
    "\tdate=dt.datetime(year=1996,day=31,month=12)\n",
    "\ttransaction[\"avg_balance\"] = transaction[\"balance\"].mean()\n",
    "\ttransaction[\"frequency\"] = transaction['trans_id'].count()\n",
    "\t#transaction[\"recent_transaction\"] = date - transaction[\"date\"]\n",
    "\t\n",
    "\t# Aggregate the total credit per account\n",
    "\ttransaction[\"trans_agg_credit\"] = transaction[transaction['type'].isin(['PRIJEM'])].groupby('account_id')['amount'].agg('sum')\n",
    "\ttransaction[\"trans_agg_credit\"] = transaction[\"trans_agg_credit\"].reset_index()\n",
    "\ttransaction[\"trans_agg_credit\"] = transaction[\"trans_agg_credit\"].rename(columns={'amount':'total_credit'})\n",
    "\t\n",
    "\t# Aggregate the total withdrawal per account\n",
    "\ttransaction[\"trans_agg_withdrawal\"] = transaction[transaction['type'].isin(['VYDAJ', 'VYBER'])].groupby('account_id')['amount'].agg('sum')\n",
    "\ttransaction[\"trans_agg_withdrawal\"] = transaction[\"trans_agg_withdrawal\"].reset_index()\n",
    "\ttransaction[\"trans_agg_withdrawal\"] = transaction[\"trans_agg_withdrawal\"].rename(columns={'amount':'total_withdrawal'})\n",
    "\treturn transaction"
   ]
  },
  {
   "cell_type": "code",
   "execution_count": null,
   "id": "6e511b5b",
   "metadata": {},
   "outputs": [],
   "source": [
    "trans_raw = trans_raw.groupby('account_id').apply(aggregate)"
   ]
  }
 ],
 "metadata": {
  "kernelspec": {
   "display_name": "Python 3 (ipykernel)",
   "language": "python",
   "name": "python3"
  },
  "language_info": {
   "codemirror_mode": {
    "name": "ipython",
    "version": 3
   },
   "file_extension": ".py",
   "mimetype": "text/x-python",
   "name": "python",
   "nbconvert_exporter": "python",
   "pygments_lexer": "ipython3",
   "version": "3.8.8"
  }
 },
 "nbformat": 4,
 "nbformat_minor": 5
}
