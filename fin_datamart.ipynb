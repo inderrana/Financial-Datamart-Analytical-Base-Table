{
 "cells": [
  {
   "cell_type": "code",
   "execution_count": 85,
   "metadata": {},
   "outputs": [
    {
     "data": {
      "text/plain": [
       "[]"
      ]
     },
     "execution_count": 85,
     "metadata": {},
     "output_type": "execute_result"
    }
   ],
   "source": [
    "import sys\n",
    "import subprocess\n",
    "import importlib\n",
    "\n",
    "packages = ['pandas', 'numpy','pathlib','os','glob']\n",
    "[subprocess.check_call(['pip', 'install', pkg]) \n",
    "for pkg in packages if not importlib.util.find_spec(pkg)]"
   ]
  },
  {
   "cell_type": "code",
   "execution_count": 86,
   "metadata": {},
   "outputs": [],
   "source": [
    "import pandas as pd\n",
    "import numpy as np\n",
    "import pathlib\n",
    "import os\n",
    "import glob"
   ]
  },
  {
   "cell_type": "code",
   "execution_count": 87,
   "metadata": {},
   "outputs": [],
   "source": [
    "data_folder = Path(os.getcwd() + \"/FP_GroupProject/data/raw/data_berka\")"
   ]
  },
  {
   "cell_type": "code",
   "execution_count": 88,
   "metadata": {},
   "outputs": [
    {
     "ename": "FileNotFoundError",
     "evalue": "[Errno 2] No such file or directory: '/Users/inder/OneDrive - IESEG/Documents/Courses/FP/fin_datamart/FP_GroupProject/data/raw/data_berka/FP_GroupProject/data/raw/data_berka'",
     "output_type": "error",
     "traceback": [
      "\u001b[0;31m---------------------------------------------------------------------------\u001b[0m",
      "\u001b[0;31mFileNotFoundError\u001b[0m                         Traceback (most recent call last)",
      "\u001b[0;32m<ipython-input-88-15adaa86d6fb>\u001b[0m in \u001b[0;36m<module>\u001b[0;34m\u001b[0m\n\u001b[0;32m----> 1\u001b[0;31m \u001b[0mos\u001b[0m\u001b[0;34m.\u001b[0m\u001b[0mchdir\u001b[0m\u001b[0;34m(\u001b[0m\u001b[0mdata_folder\u001b[0m\u001b[0;34m)\u001b[0m\u001b[0;34m\u001b[0m\u001b[0;34m\u001b[0m\u001b[0m\n\u001b[0m",
      "\u001b[0;31mFileNotFoundError\u001b[0m: [Errno 2] No such file or directory: '/Users/inder/OneDrive - IESEG/Documents/Courses/FP/fin_datamart/FP_GroupProject/data/raw/data_berka/FP_GroupProject/data/raw/data_berka'"
     ]
    }
   ],
   "source": [
    "os.chdir(data_folder)"
   ]
  },
  {
   "cell_type": "code",
   "execution_count": 89,
   "metadata": {},
   "outputs": [
    {
     "name": "stderr",
     "output_type": "stream",
     "text": [
      "/Users/inder/opt/anaconda3/lib/python3.8/site-packages/IPython/core/interactiveshell.py:3165: DtypeWarning: Columns (8) have mixed types.Specify dtype option on import or set low_memory=False.\n",
      "  has_raised = await self.run_ast_nodes(code_ast.body, cell_name,\n"
     ]
    }
   ],
   "source": [
    "data_dict={}\n",
    "for txt_file in glob.glob(\"*.asc\"):\n",
    "    #list filenames\n",
    "    filename = txt_file\n",
    "    #create python tablenames\n",
    "    df_name = str.replace(txt_file,\".asc\",\"_raw\") \n",
    "    #read files\n",
    "    df_value = pd.read_table(filename,  delimiter=\";\")\n",
    "    #add to dict\n",
    "    data_dict[df_name] = df_value\n"
   ]
  },
  {
   "cell_type": "code",
   "execution_count": 90,
   "metadata": {},
   "outputs": [],
   "source": [
    "for var in data_dict.keys():\n",
    "    exec(\"{} = data_dict['{}']\".format(var, var))"
   ]
  },
  {
   "cell_type": "code",
   "execution_count": 91,
   "metadata": {},
   "outputs": [
    {
     "data": {
      "text/plain": [
       "dict_keys(['account_raw', 'card_raw', 'order_raw', 'disp_raw', 'loan_raw', 'client_raw', 'district_raw', 'trans_raw'])"
      ]
     },
     "execution_count": 91,
     "metadata": {},
     "output_type": "execute_result"
    }
   ],
   "source": [
    "data_dict.keys()"
   ]
  },
  {
   "cell_type": "code",
   "execution_count": 102,
   "metadata": {},
   "outputs": [
    {
     "name": "stdout",
     "output_type": "stream",
     "text": [
      "account_raw : 0\n",
      "card_raw : 0\n",
      "order_raw : 0\n",
      "disp_raw : 0\n",
      "loan_raw : 0\n",
      "client_raw : 0\n",
      "district_raw : 0\n",
      "trans_raw : 2208738\n"
     ]
    }
   ],
   "source": [
    "for keys in data_dict.keys():\n",
    "    print(keys, \":\", data_dict[keys].isna().sum().sum())"
   ]
  },
  {
   "cell_type": "code",
   "execution_count": null,
   "metadata": {},
   "outputs": [],
   "source": []
  }
 ],
 "metadata": {
  "interpreter": {
   "hash": "f1ce4e8569ae4e92577217304b8fdd87e456aa8c2f0d5e3962abb3bd7eecc672"
  },
  "kernelspec": {
   "display_name": "Python 3.8.8 64-bit ('base': conda)",
   "name": "python3"
  },
  "language_info": {
   "codemirror_mode": {
    "name": "ipython",
    "version": 3
   },
   "file_extension": ".py",
   "mimetype": "text/x-python",
   "name": "python",
   "nbconvert_exporter": "python",
   "pygments_lexer": "ipython3",
   "version": "3.8.8"
  },
  "orig_nbformat": 4
 },
 "nbformat": 4,
 "nbformat_minor": 2
}
